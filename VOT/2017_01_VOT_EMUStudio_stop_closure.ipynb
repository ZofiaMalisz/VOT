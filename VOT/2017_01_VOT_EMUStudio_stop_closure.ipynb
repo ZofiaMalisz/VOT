{
 "cells": [
  {
   "cell_type": "raw",
   "metadata": {},
   "source": [
    "ZMalisz, Jun 2017: \n",
    "Prepares windows for the AutoVOT tool by Sonderegger and Keshet. "
   ]
  },
  {
   "cell_type": "code",
   "execution_count": 1,
   "metadata": {
    "collapsed": false
   },
   "outputs": [],
   "source": [
    "from __future__ import division\n",
    "\n",
    "from glob import glob\n",
    "import os\n",
    "import os.path\n",
    "import re\n",
    "import pandas as pd\n",
    "import csv\n",
    "import tgt #TextGridTools by Buschmeier and Wlodarczak\n",
    "import pickle\n",
    "from fnmatch import fnmatch\n",
    "from itertools import cycle"
   ]
  },
  {
   "cell_type": "code",
   "execution_count": 4,
   "metadata": {
    "collapsed": false
   },
   "outputs": [],
   "source": [
    "rootdir = '/Users/malisz/Corpora/EMU_Studio_POL/VOT'"
   ]
  },
  {
   "cell_type": "code",
   "execution_count": 5,
   "metadata": {
    "collapsed": false
   },
   "outputs": [
    {
     "name": "stdout",
     "output_type": "stream",
     "text": [
      "Processing file/Users/malisz/Corpora/EMU_Studio_POL/VOT/SES0001/sent002.TextGrid\n",
      "Processing file/Users/malisz/Corpora/EMU_Studio_POL/VOT/SES0001/sent003.TextGrid\n",
      "Processing file/Users/malisz/Corpora/EMU_Studio_POL/VOT/SES0001/sent004.TextGrid\n",
      "Processing file/Users/malisz/Corpora/EMU_Studio_POL/VOT/SES0001/sent005.TextGrid\n",
      "Processing file/Users/malisz/Corpora/EMU_Studio_POL/VOT/SES0001/sent006.TextGrid\n",
      "Processing file/Users/malisz/Corpora/EMU_Studio_POL/VOT/SES0001/sent026.TextGrid\n",
      "Processing file/Users/malisz/Corpora/EMU_Studio_POL/VOT/SES0001/sent027.TextGrid\n",
      "Processing file/Users/malisz/Corpora/EMU_Studio_POL/VOT/SES0001/sent028.TextGrid\n",
      "Processing file/Users/malisz/Corpora/EMU_Studio_POL/VOT/SES0001/sent029.TextGrid\n",
      "Processing file/Users/malisz/Corpora/EMU_Studio_POL/VOT/SES0001/sent030.TextGrid\n",
      "Processing file/Users/malisz/Corpora/EMU_Studio_POL/VOT/SES0002/sent001.TextGrid\n",
      "Processing file/Users/malisz/Corpora/EMU_Studio_POL/VOT/SES0002/sent002.TextGrid\n",
      "Processing file/Users/malisz/Corpora/EMU_Studio_POL/VOT/SES0002/sent003.TextGrid\n",
      "Processing file/Users/malisz/Corpora/EMU_Studio_POL/VOT/SES0002/sent026.TextGrid\n",
      "Processing file/Users/malisz/Corpora/EMU_Studio_POL/VOT/SES0002/sent027.TextGrid\n",
      "Processing file/Users/malisz/Corpora/EMU_Studio_POL/VOT/SES0002/sent028.TextGrid\n",
      "Processing file/Users/malisz/Corpora/EMU_Studio_POL/VOT/SES0002/sent029.TextGrid\n",
      "Processing file/Users/malisz/Corpora/EMU_Studio_POL/VOT/SES0002/sent030.TextGrid\n",
      "Processing file/Users/malisz/Corpora/EMU_Studio_POL/VOT/SES0003/sent001.TextGrid\n",
      "Processing file/Users/malisz/Corpora/EMU_Studio_POL/VOT/SES0003/sent002.TextGrid\n",
      "Processing file/Users/malisz/Corpora/EMU_Studio_POL/VOT/SES0003/sent003.TextGrid\n",
      "Processing file/Users/malisz/Corpora/EMU_Studio_POL/VOT/SES0003/sent004.TextGrid\n",
      "Processing file/Users/malisz/Corpora/EMU_Studio_POL/VOT/SES0003/sent027.TextGrid\n",
      "Processing file/Users/malisz/Corpora/EMU_Studio_POL/VOT/SES0003/sent028.TextGrid\n",
      "Processing file/Users/malisz/Corpora/EMU_Studio_POL/VOT/SES0003/sent029.TextGrid\n",
      "Processing file/Users/malisz/Corpora/EMU_Studio_POL/VOT/SES0004/sent001.TextGrid\n",
      "Processing file/Users/malisz/Corpora/EMU_Studio_POL/VOT/SES0004/sent002.TextGrid\n",
      "Processing file/Users/malisz/Corpora/EMU_Studio_POL/VOT/SES0004/sent003.TextGrid\n",
      "Processing file/Users/malisz/Corpora/EMU_Studio_POL/VOT/SES0004/sent027.TextGrid\n",
      "Processing file/Users/malisz/Corpora/EMU_Studio_POL/VOT/SES0004/sent028.TextGrid\n",
      "Processing file/Users/malisz/Corpora/EMU_Studio_POL/VOT/SES0004/sent029.TextGrid\n",
      "Processing file/Users/malisz/Corpora/EMU_Studio_POL/VOT/SES0004/sent030.TextGrid\n",
      "Processing file/Users/malisz/Corpora/EMU_Studio_POL/VOT/SES0005/sent001.TextGrid\n",
      "Processing file/Users/malisz/Corpora/EMU_Studio_POL/VOT/SES0005/sent002.TextGrid\n",
      "Processing file/Users/malisz/Corpora/EMU_Studio_POL/VOT/SES0005/sent003.TextGrid\n",
      "Processing file/Users/malisz/Corpora/EMU_Studio_POL/VOT/SES0005/sent028.TextGrid\n",
      "Processing file/Users/malisz/Corpora/EMU_Studio_POL/VOT/SES0005/sent029.TextGrid\n",
      "Processing file/Users/malisz/Corpora/EMU_Studio_POL/VOT/SES0005/sent030.TextGrid\n"
     ]
    }
   ],
   "source": [
    "#TABELA DO ANALIZY\n",
    "for dirs, subdir, files in os.walk(rootdir):\n",
    "\n",
    "    files = [f for f in files if not f[0] == '.']\n",
    "    subdir[:] = [d for d in subdir if not d[0] == '.']\n",
    "    \n",
    "    txgr = \"*.TextGrid\"\n",
    "    for filename in files:\n",
    "        if fnmatch(filename, txgr):\n",
    "            \n",
    "            basename = filename[:-9]\n",
    "            path = os.path.join(dirs, filename)\n",
    "            print('Processing file' + path)\n",
    "            \n",
    "            t = tgt.read_textgrid(path, encoding='utf-8')\n",
    "            \n",
    "            seg = t.get_tier_by_name('segments')\n",
    "            vless = t.get_tier_by_name('vot')\n",
    "            voiced = t.get_tier_by_name('votvoiced')\n",
    "    \n",
    "    #create new tiers\n",
    "            clos1=tgt.IntervalTier(name='closure_voiceless')\n",
    "            clos2=tgt.IntervalTier(name='closure_voiced')\n",
    "    \n",
    "    #find the closure phase of the stop        \n",
    "            def closure(closure_tier_name, segment_tier_name, vot_tier_name):\n",
    "                clos_start = []\n",
    "                clos_end = []\n",
    "                for i in segment_tier_name.intervals:\n",
    "                    seg_start = i.start_time\n",
    "                    seg_end = i.end_time\n",
    "                    for j in vot_tier_name.intervals:\n",
    "                        if (j.start_time >= seg_start) and (j.start_time <= seg_end):\n",
    "                            clos_start.append(seg_start)\n",
    "                            clos_end.append(j.start_time)\n",
    "                for i, j in zip(clos_start, clos_end):\n",
    "                    closure_tier_name.add_interval((tgt.Interval(start_time=i, end_time=j, text='closure')))\n",
    "                return closure_tier_name\n",
    "            \n",
    "            clos1=closure(clos1, seg, vless)\n",
    "            clos2=closure(clos2, seg, voiced)\n",
    "\n",
    "            t.add_tier(clos1)\n",
    "            t.add_tier(clos2)\n",
    "            path1 = os.path.join(dirs, basename)\n",
    "            #tgt.write_to_file(t, path1 + '_test' + '.TextGrid', format='long', encoding='utf-8')\n",
    "            \n",
    "    #prepare the Windows tier from segments tier and check if the next interval after the stop is a vowel.\n",
    "\n",
    "            seg2=tgt.IntervalTier(name='windows')\n",
    "        \n",
    "            stops_PL = ['p', 't', 'k', 'b', 'd', 'g']\n",
    "            #not sure if en is the nasal e\n",
    "            vowels_PL = ['a', 'e', 'i', 'o', 'u', 'on', 'I', 'en']\n",
    "            \n",
    "            win_start = []\n",
    "            win_end = []\n",
    "            label = []\n",
    "            \n",
    "            for idx, elem in enumerate(seg.intervals):\n",
    "\n",
    "                thiselem = elem\n",
    "                nextelem = seg.intervals[(idx + 1) % len(seg.intervals)]\n",
    "                if thiselem.text in stops_PL and nextelem.text in vowels_PL:\n",
    "                    win_start.append(thiselem.start_time - 0.03)\n",
    "                    win_end.append(thiselem.end_time + 0.03)\n",
    "                    label.append(thiselem.text)\n",
    "            \n",
    "            for i, j in zip(win_start, win_end):\n",
    "                try:\n",
    "                    seg2.add_interval((tgt.Interval(start_time=i, end_time=j, text='w')))\n",
    "                except ValueError:\n",
    "                    pass\n",
    "            \n",
    "            t.add_tier(seg2)\n",
    "            tgt.write_to_file(t, path1 + '_windows' + '.TextGrid', format='long', encoding='utf-8')\n",
    "           \n",
    "    \n",
    " \n",
    "            "
   ]
  },
  {
   "cell_type": "code",
   "execution_count": null,
   "metadata": {
    "collapsed": true
   },
   "outputs": [],
   "source": []
  },
  {
   "cell_type": "code",
   "execution_count": null,
   "metadata": {
    "collapsed": true
   },
   "outputs": [],
   "source": []
  }
 ],
 "metadata": {
  "kernelspec": {
   "display_name": "Python 2",
   "language": "python",
   "name": "python2"
  },
  "language_info": {
   "codemirror_mode": {
    "name": "ipython",
    "version": 2
   },
   "file_extension": ".py",
   "mimetype": "text/x-python",
   "name": "python",
   "nbconvert_exporter": "python",
   "pygments_lexer": "ipython2",
   "version": "2.7.12"
  }
 },
 "nbformat": 4,
 "nbformat_minor": 1
}
